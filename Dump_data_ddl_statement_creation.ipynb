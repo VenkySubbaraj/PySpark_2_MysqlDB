{
 "cells": [
  {
   "cell_type": "code",
   "execution_count": 1,
   "id": "cd3a1ae0-1b02-4b10-8197-6ae13f6be395",
   "metadata": {},
   "outputs": [],
   "source": [
    "import pandas as pd \n",
    "import csv"
   ]
  },
  {
   "cell_type": "code",
   "execution_count": 4,
   "id": "8bfe1d74-ea42-4428-8101-7bd5c07c0056",
   "metadata": {
    "scrolled": true
   },
   "outputs": [
    {
     "name": "stdout",
     "output_type": "stream",
     "text": [
      "Requirement already satisfied: pyspark in ./lib/python3.12/site-packages (3.5.5)\n",
      "Requirement already satisfied: py4j==0.10.9.7 in ./lib/python3.12/site-packages (from pyspark) (0.10.9.7)\n",
      "Note: you may need to restart the kernel to use updated packages.\n"
     ]
    }
   ],
   "source": [
    "pip install pyspark "
   ]
  },
  {
   "cell_type": "code",
   "execution_count": 1,
   "id": "b3b1a233-6eca-4e6b-82e9-37d8ab4d809b",
   "metadata": {},
   "outputs": [
    {
     "name": "stdout",
     "output_type": "stream",
     "text": [
      "Collecting pytest\n",
      "  Downloading pytest-8.3.5-py3-none-any.whl.metadata (7.6 kB)\n",
      "Collecting iniconfig (from pytest)\n",
      "  Downloading iniconfig-2.1.0-py3-none-any.whl.metadata (2.7 kB)\n",
      "Requirement already satisfied: packaging in ./lib/python3.12/site-packages (from pytest) (24.2)\n",
      "Collecting pluggy<2,>=1.5 (from pytest)\n",
      "  Downloading pluggy-1.5.0-py3-none-any.whl.metadata (4.8 kB)\n",
      "Downloading pytest-8.3.5-py3-none-any.whl (343 kB)\n",
      "\u001b[2K   \u001b[90m━━━━━━━━━━━━━━━━━━━━━━━━━━━━━━━━━━━━━━━━\u001b[0m \u001b[32m343.6/343.6 kB\u001b[0m \u001b[31m6.8 MB/s\u001b[0m eta \u001b[36m0:00:00\u001b[0m:00:01\u001b[0m\n",
      "\u001b[?25hDownloading pluggy-1.5.0-py3-none-any.whl (20 kB)\n",
      "Downloading iniconfig-2.1.0-py3-none-any.whl (6.0 kB)\n",
      "Installing collected packages: pluggy, iniconfig, pytest\n",
      "Successfully installed iniconfig-2.1.0 pluggy-1.5.0 pytest-8.3.5\n",
      "Note: you may need to restart the kernel to use updated packages.\n"
     ]
    }
   ],
   "source": [
    "pip install pytest "
   ]
  },
  {
   "cell_type": "code",
   "execution_count": 1,
   "id": "62881694-1fdd-4ff9-a5a0-540ce39d9b80",
   "metadata": {
    "scrolled": true
   },
   "outputs": [],
   "source": [
    "from pyspark.sql import SparkSession\n",
    "from pyspark.sql import SQLContext\n",
    "from pyspark.sql.types import StructType, ArrayType\n",
    "import pytest\n",
    "# import mysql.connector"
   ]
  },
  {
   "cell_type": "code",
   "execution_count": 9,
   "id": "4732a8e6-8020-49cd-8aef-789ace3eda0e",
   "metadata": {},
   "outputs": [
    {
     "name": "stdout",
     "output_type": "stream",
     "text": [
      "+-----------------+--------------------+------------------+--------------+--------+--------------------+--------------------+--------------------+-------------+--------------------+--------------------+--------------------+--------------------+--------------------+------------------+--------------------+--------------+-------------------+---------------+------------+\n",
      "|        Full Name|      Street Address|              City|         State|Zip Code|             Country|        Phone Number|               Email|Date of Birth|          Occupation|        Company Name|        Job Position|         Website URL|     Company Address|Preferred Language| Profile Picture URL|Marital Status|Social Media Handle|Company Revenue|Last Updated|\n",
      "+-----------------+--------------------+------------------+--------------+--------+--------------------+--------------------+--------------------+-------------+--------------------+--------------------+--------------------+--------------------+--------------------+------------------+--------------------+--------------+-------------------+---------------+------------+\n",
      "| Rachel Hernandez|338 Sanchez Cente...|        Duncanfort|      Virginia|   48198|             Vietnam|    647-890-6808x660|randybrown@exampl...|   1989-10-26|      Retail manager|        Bartlett Ltd|Community pharmacist|https://mccarthy....|Unit 0542 Box 985...|       Kalaallisut|https://placekitt...|      Divorced|             uhines|      705549851|  2025-02-01|\n",
      "|     Kathy Malone|68581 Stewart Lan...|   East Nicoleport|   Connecticut|   81003|Holy See (Vatican...|  (772)858-8178x8009|marilynhorne@exam...|   1967-05-16|   Software engineer|         Shelton PLC|Holiday represent...|https://www.moral...|877 Deborah Knoll...|             Wolof|https://dummyimag...|      Divorced|  christopherlarson|      781633138|  2025-01-29|\n",
      "|    Taylor Howell|736 Campbell Spri...|South Matthewville|     Tennessee|   41257|        Saint Helena|  635-408-9833x08209|brandon77@example...|   2003-06-14|Conservation offi...|    Mcmahon-Peterson|Research scientis...|http://delgado-me...|834 Joseph Knoll ...|            Korean|https://picsum.ph...|        Single|          michael80|      171641494|  2025-01-28|\n",
      "|      George Mann|7451 Stanley Fiel...|        Port Casey|     Wisconsin|   04442|    Marshall Islands| +1-639-477-1414x359|  lblack@example.net|   1997-07-09|   Systems developer|        White-Bryant|Research officer,...|https://gonzales....|927 Elizabeth Ext...|            French|https://picsum.ph...|        Single|      trevorjohnson|      846353180|  2025-01-01|\n",
      "|     Michael Page|047 Johnson Rue A...|        New Briana|    New Jersey|   47954|              Guyana|     +1-906-251-6197|shellyeverett@exa...|   1994-09-21|Journalist, magazine|          Lewis-Luna|   Medical secretary|http://www.dixon....|912 Jeffrey Row A...|              Pali|https://dummyimag...|      Divorced|      melendezedwin|      554805613|  2025-02-13|\n",
      "| Melanie Anderson|USNS Barrera FPO ...|      New Adamport|      New York|   94991|        Burkina Faso|          5574052824|nelsonamanda@exam...|   1985-06-11|Multimedia specia...|Nguyen, Richmond ...|          Counsellor|http://www.sloan-...|6025 Kyle Fork Su...|               Lao|https://placekitt...|      Divorced|              sue46|      524249442|  2025-01-04|\n",
      "|   Samuel Burgess|81001 Cassandra L...|      West Juanton|      Virginia|   33370|            Pakistan|       (738)420-8777|meganmurphy@examp...|   1944-08-28|Magazine features...|     Arias-Rodriguez|Agricultural cons...|http://www.arnold...|252 Perez Ports A...|           Kirghiz|https://dummyimag...|        Single|        juarezallen|      245337738|  2025-01-01|\n",
      "|      Kelli Perry|1332 Poole Garden...|       Lake Steven|      Illinois|   40005|            Malaysia|+1-588-463-6172x3...| pmurray@example.com|   1997-03-30|   Food technologist|Montoya, Salazar ...|Water quality sci...|https://www.hoffm...|USS Jones FPO AP ...|         Abkhazian|https://picsum.ph...|        Single|       crosswhitney|      971804056|  2025-01-18|\n",
      "|Tammy Camacho DVM|445 Tiffany Squar...|         Port Kyle|       Indiana|   65008|  Russian Federation|   (217)372-0094x764| megan94@example.org|   1981-06-26|Recruitment consu...|Garcia, Suarez an...|Electronics engineer|https://www.mccal...|PSC 2039, Box 881...|            Hebrew|https://picsum.ph...|       Married|             john72|      672100545|  2025-01-25|\n",
      "|      Joel Fisher|0202 Gary Inlet A...|   West Oliviabury| West Virginia|   04924|               Samoa|     +1-840-295-5312| bobby78@example.com|   1971-11-23|Primary school te...|Moody, Hall and W...| Trade mark attorney|http://www.maldon...|730 Fowler Mounta...|          Croatian|https://dummyimag...|       Married|        murraysarah|      935467772|  2025-01-21|\n",
      "|   Jennifer Davis|41492 Lucero Gard...|     Lake Danaside|  South Dakota|   38673|United States Vir...|001-963-248-3861x...|annebrown@example...|   1955-02-02|Telecommunication...|        Haynes-Smith|   Software engineer|http://www.coffey...|549 Perez Highway...|          Romanian|https://picsum.ph...|        Single|         perezmaria|      124290166|  2025-01-25|\n",
      "|   Jason Robinson|337 Smith Forks T...|          Webbland|      Arkansas|   90312|           Nicaragua|     +1-773-585-9496|wsanders@example.net|   1995-03-19|   Scientist, marine|Walters, Zavala a...|  Production manager|http://www.murphy...|0034 Mullins Plai...|           Inupiaq|https://placekitt...|        Single|          georgelee|        7687041|  2025-01-28|\n",
      "|       Sarah Khan|63539 Nicole Glen...|   New Danielburgh|     Minnesota|   14985|              Jersey|   782.961.1566x0965|  ohenry@example.org|   1983-11-12| Production engineer|            Kemp Ltd|Therapeutic radio...|  http://peters.org/|29306 Michelle Av...|             Tonga|https://picsum.ph...|        Single|             xparks|      347924816|  2025-02-08|\n",
      "| Amanda Rodriguez|796 Lauren Knolls...|          Tateland|    New Mexico|   79689|Cocos (Keeling) I...|  567-778-1811x83333|barbaralee@exampl...|   1965-06-02| Early years teacher|Schwartz, Nelson ...|Tourist informati...|http://www.sharp....|50845 Miller Camp...|         Norwegian|https://dummyimag...|       Married|        stacyatkins|      703449093|  2025-01-22|\n",
      "|  Michelle Joseph|23766 Brian Path ...|     Christianview|        Alaska|   27017|         Afghanistan|     +1-615-919-2833|stephen74@example...|   1945-10-16|Forensic psycholo...|           Smith Ltd| Information officer|http://www.brenna...|15933 Soto Trace ...|             Oromo|https://picsum.ph...|        Single|        wilsonderek|      421936296|  2025-02-01|\n",
      "|       Tracy Kent|USNS Jennings FPO...|  East Donaldburgh|North Carolina|   68147|Palestinian Terri...|        348-218-9040|tracymorris@examp...|   1953-11-25|Chief Executive O...|     Gonzalez-Wilson| Art gallery manager|  https://jones.com/|501 Avila Branch ...|       Marshallese|https://placekitt...|        Single|            kevin93|      569018247|  2025-01-17|\n",
      "|      Mark Carter|9315 Bates Canyon...|   Port Jennashire|        Nevada|   75023|Palestinian Terri...|001-308-253-9994x395|eduardo24@example...|   2004-03-22|Corporate investm...|          Kelley PLC|Local government ...|http://www.haynes...|USNV Gomez FPO AP...|         Sardinian|https://picsum.ph...|       Married|          heather03|      887848305|  2025-01-14|\n",
      "|   Jimmy Thornton|2597 Christopher ...|         Jonesberg|        Kansas|   12896|           Guatemala|    001-379-435-8250|sandra79@example.com|   1994-05-15|Fitness centre ma...|        Scott-Palmer|Psychotherapist, ...|http://www.kane.com/|97433 Turner Cour...|             Maori|https://dummyimag...|       Married|           markboyd|      549604425|  2025-02-01|\n",
      "|     Marie Harris|96531 Monica Stre...|       Johnsonberg|North Carolina|   55588|             Bolivia|          4864485085|rebecca14@example...|   1967-04-27|Health and safety...|Valdez, Smith and...|Research scientis...|http://cook-walla...|603 Valenzuela Po...|        Portuguese|https://picsum.ph...|        Single|         wilsoncody|      568380861|  2025-01-24|\n",
      "|         Lee Hall|PSC 7696, Box 686...|     Lake Paulside|      Maryland|   10072|          Micronesia|  (396)849-1874x8960|hamiltonnichole@e...|   1970-06-08|              Dealer|Harmon, Williams ...|Trading standards...|https://www.shaff...|8974 Sheila Lodge...|          Kuanyama|https://picsum.ph...|       Married|        alyssaallen|      146726117|  2025-01-03|\n",
      "+-----------------+--------------------+------------------+--------------+--------+--------------------+--------------------+--------------------+-------------+--------------------+--------------------+--------------------+--------------------+--------------------+------------------+--------------------+--------------+-------------------+---------------+------------+\n",
      "only showing top 20 rows\n",
      "\n"
     ]
    }
   ],
   "source": [
    "def create_session():\n",
    "    spark = SparkSession.builder.appName(\"Venkata\").config(\"spark.driver.extraClassPath\",\"./mysql-connector-java-5.1.49.jar\").getOrCreate()\n",
    "    sqlcontext = SQLContext(spark)\n",
    "    return spark, sqlcontext\n",
    "spark, sqlcontext = create_session()\n",
    "df = spark.read.csv('./testing_data.csv', header=True)\n",
    "df.show()"
   ]
  },
  {
   "cell_type": "code",
   "execution_count": 4,
   "id": "0d367cf5-5309-4774-9e74-5acdc984777e",
   "metadata": {},
   "outputs": [
    {
     "name": "stdout",
     "output_type": "stream",
     "text": [
      "StructType([StructField('Full Name', StringType(), True), StructField('Street Address', StringType(), True), StructField('City', StringType(), True), StructField('State', StringType(), True), StructField('Zip Code', StringType(), True), StructField('Country', StringType(), True), StructField('Phone Number', StringType(), True), StructField('Email', StringType(), True), StructField('Date of Birth', StringType(), True), StructField('Occupation', StringType(), True), StructField('Company Name', StringType(), True), StructField('Job Position', StringType(), True), StructField('Website URL', StringType(), True), StructField('Company Address', StringType(), True), StructField('Preferred Language', StringType(), True), StructField('Profile Picture URL', StringType(), True), StructField('Marital Status', StringType(), True), StructField('Social Media Handle', StringType(), True), StructField('Company Revenue', StringType(), True), StructField('Last Updated', StringType(), True)])\n",
      "StructField('Full Name', StringType(), True)\n",
      "[StringType()]\n",
      "['Full Name']\n",
      "StructField('Street Address', StringType(), True)\n",
      "[StringType(), StringType()]\n",
      "['Full Name', 'Street Address']\n",
      "StructField('City', StringType(), True)\n",
      "[StringType(), StringType(), StringType()]\n",
      "['Full Name', 'Street Address', 'City']\n",
      "StructField('State', StringType(), True)\n",
      "[StringType(), StringType(), StringType(), StringType()]\n",
      "['Full Name', 'Street Address', 'City', 'State']\n",
      "StructField('Zip Code', StringType(), True)\n",
      "[StringType(), StringType(), StringType(), StringType(), StringType()]\n",
      "['Full Name', 'Street Address', 'City', 'State', 'Zip Code']\n",
      "StructField('Country', StringType(), True)\n",
      "[StringType(), StringType(), StringType(), StringType(), StringType(), StringType()]\n",
      "['Full Name', 'Street Address', 'City', 'State', 'Zip Code', 'Country']\n",
      "StructField('Phone Number', StringType(), True)\n",
      "[StringType(), StringType(), StringType(), StringType(), StringType(), StringType(), StringType()]\n",
      "['Full Name', 'Street Address', 'City', 'State', 'Zip Code', 'Country', 'Phone Number']\n",
      "StructField('Email', StringType(), True)\n",
      "[StringType(), StringType(), StringType(), StringType(), StringType(), StringType(), StringType(), StringType()]\n",
      "['Full Name', 'Street Address', 'City', 'State', 'Zip Code', 'Country', 'Phone Number', 'Email']\n",
      "StructField('Date of Birth', StringType(), True)\n",
      "[StringType(), StringType(), StringType(), StringType(), StringType(), StringType(), StringType(), StringType(), StringType()]\n",
      "['Full Name', 'Street Address', 'City', 'State', 'Zip Code', 'Country', 'Phone Number', 'Email', 'Date of Birth']\n",
      "StructField('Occupation', StringType(), True)\n",
      "[StringType(), StringType(), StringType(), StringType(), StringType(), StringType(), StringType(), StringType(), StringType(), StringType()]\n",
      "['Full Name', 'Street Address', 'City', 'State', 'Zip Code', 'Country', 'Phone Number', 'Email', 'Date of Birth', 'Occupation']\n",
      "StructField('Company Name', StringType(), True)\n",
      "[StringType(), StringType(), StringType(), StringType(), StringType(), StringType(), StringType(), StringType(), StringType(), StringType(), StringType()]\n",
      "['Full Name', 'Street Address', 'City', 'State', 'Zip Code', 'Country', 'Phone Number', 'Email', 'Date of Birth', 'Occupation', 'Company Name']\n",
      "StructField('Job Position', StringType(), True)\n",
      "[StringType(), StringType(), StringType(), StringType(), StringType(), StringType(), StringType(), StringType(), StringType(), StringType(), StringType(), StringType()]\n",
      "['Full Name', 'Street Address', 'City', 'State', 'Zip Code', 'Country', 'Phone Number', 'Email', 'Date of Birth', 'Occupation', 'Company Name', 'Job Position']\n",
      "StructField('Website URL', StringType(), True)\n",
      "[StringType(), StringType(), StringType(), StringType(), StringType(), StringType(), StringType(), StringType(), StringType(), StringType(), StringType(), StringType(), StringType()]\n",
      "['Full Name', 'Street Address', 'City', 'State', 'Zip Code', 'Country', 'Phone Number', 'Email', 'Date of Birth', 'Occupation', 'Company Name', 'Job Position', 'Website URL']\n",
      "StructField('Company Address', StringType(), True)\n",
      "[StringType(), StringType(), StringType(), StringType(), StringType(), StringType(), StringType(), StringType(), StringType(), StringType(), StringType(), StringType(), StringType(), StringType()]\n",
      "['Full Name', 'Street Address', 'City', 'State', 'Zip Code', 'Country', 'Phone Number', 'Email', 'Date of Birth', 'Occupation', 'Company Name', 'Job Position', 'Website URL', 'Company Address']\n",
      "StructField('Preferred Language', StringType(), True)\n",
      "[StringType(), StringType(), StringType(), StringType(), StringType(), StringType(), StringType(), StringType(), StringType(), StringType(), StringType(), StringType(), StringType(), StringType(), StringType()]\n",
      "['Full Name', 'Street Address', 'City', 'State', 'Zip Code', 'Country', 'Phone Number', 'Email', 'Date of Birth', 'Occupation', 'Company Name', 'Job Position', 'Website URL', 'Company Address', 'Preferred Language']\n",
      "StructField('Profile Picture URL', StringType(), True)\n",
      "[StringType(), StringType(), StringType(), StringType(), StringType(), StringType(), StringType(), StringType(), StringType(), StringType(), StringType(), StringType(), StringType(), StringType(), StringType(), StringType()]\n",
      "['Full Name', 'Street Address', 'City', 'State', 'Zip Code', 'Country', 'Phone Number', 'Email', 'Date of Birth', 'Occupation', 'Company Name', 'Job Position', 'Website URL', 'Company Address', 'Preferred Language', 'Profile Picture URL']\n",
      "StructField('Marital Status', StringType(), True)\n",
      "[StringType(), StringType(), StringType(), StringType(), StringType(), StringType(), StringType(), StringType(), StringType(), StringType(), StringType(), StringType(), StringType(), StringType(), StringType(), StringType(), StringType()]\n",
      "['Full Name', 'Street Address', 'City', 'State', 'Zip Code', 'Country', 'Phone Number', 'Email', 'Date of Birth', 'Occupation', 'Company Name', 'Job Position', 'Website URL', 'Company Address', 'Preferred Language', 'Profile Picture URL', 'Marital Status']\n",
      "StructField('Social Media Handle', StringType(), True)\n",
      "[StringType(), StringType(), StringType(), StringType(), StringType(), StringType(), StringType(), StringType(), StringType(), StringType(), StringType(), StringType(), StringType(), StringType(), StringType(), StringType(), StringType(), StringType()]\n",
      "['Full Name', 'Street Address', 'City', 'State', 'Zip Code', 'Country', 'Phone Number', 'Email', 'Date of Birth', 'Occupation', 'Company Name', 'Job Position', 'Website URL', 'Company Address', 'Preferred Language', 'Profile Picture URL', 'Marital Status', 'Social Media Handle']\n",
      "StructField('Company Revenue', StringType(), True)\n",
      "[StringType(), StringType(), StringType(), StringType(), StringType(), StringType(), StringType(), StringType(), StringType(), StringType(), StringType(), StringType(), StringType(), StringType(), StringType(), StringType(), StringType(), StringType(), StringType()]\n",
      "['Full Name', 'Street Address', 'City', 'State', 'Zip Code', 'Country', 'Phone Number', 'Email', 'Date of Birth', 'Occupation', 'Company Name', 'Job Position', 'Website URL', 'Company Address', 'Preferred Language', 'Profile Picture URL', 'Marital Status', 'Social Media Handle', 'Company Revenue']\n",
      "StructField('Last Updated', StringType(), True)\n",
      "[StringType(), StringType(), StringType(), StringType(), StringType(), StringType(), StringType(), StringType(), StringType(), StringType(), StringType(), StringType(), StringType(), StringType(), StringType(), StringType(), StringType(), StringType(), StringType(), StringType()]\n",
      "['Full Name', 'Street Address', 'City', 'State', 'Zip Code', 'Country', 'Phone Number', 'Email', 'Date of Birth', 'Occupation', 'Company Name', 'Job Position', 'Website URL', 'Company Address', 'Preferred Language', 'Profile Picture URL', 'Marital Status', 'Social Media Handle', 'Company Revenue', 'Last Updated']\n"
     ]
    }
   ],
   "source": [
    "schema = df.schema\n",
    "print(schema)\n",
    "prefix = None\n",
    "fields = []\n",
    "datatype = []\n",
    "for field in schema.fields:\n",
    "    print(field)\n",
    "    name = prefix + '.' + field.name if prefix else field.name\n",
    "    dtype = field.dataType\n",
    "    datatype.append(dtype)\n",
    "    print(datatype)\n",
    "    if isinstance (dtype, StructType):\n",
    "        name = prefix + '.' + field.name if prefix else field.name\n",
    "        print(name)\n",
    "    else:\n",
    "        fields.append(name)\n",
    "\n",
    "    print(fields)"
   ]
  },
  {
   "cell_type": "code",
   "execution_count": 6,
   "id": "8b7ca8fd-3126-43b4-a0ea-4501eb08bdcc",
   "metadata": {
    "scrolled": true
   },
   "outputs": [
    {
     "name": "stdout",
     "output_type": "stream",
     "text": [
      "CREATE TABLE ddl_statement (\n",
      " `Full_Name` STRING,\n",
      "`Street_Address` STRING,\n",
      "City STRING,\n",
      "State STRING,\n",
      "`Zip_Code` STRING,\n",
      "Country STRING,\n",
      "`Phone_Number` STRING,\n",
      "Email STRING,\n",
      "`Date_of_Birth` STRING,\n",
      "Occupation STRING,\n",
      "`Company_Name` STRING,\n",
      "`Job_Position` STRING,\n",
      "`Website_URL` STRING,\n",
      "`Company_Address` STRING,\n",
      "`Preferred_Language` STRING,\n",
      "`Profile_Picture_URL` STRING,\n",
      "`Marital_Status` STRING,\n",
      "`Social_Media_Handle` STRING,\n",
      "`Company_Revenue` STRING,\n",
      "`Last_Updated` STRING);\n"
     ]
    }
   ],
   "source": [
    "ddl = df._jdf.schema().toDDL().replace(\"'\",\"\").replace(\",\",\",\\n\").replace(\" \",\"_\").replace(\"_STRING\",\" STRING\")\n",
    "generate_ddl_statement = f\"CREATE TABLE ddl_statement (\\n {ddl});\"\n",
    "print(generate_ddl_statement)"
   ]
  },
  {
   "cell_type": "code",
   "execution_count": 11,
   "id": "0d5df289-26a4-4ca4-a2d4-8182b9b1c414",
   "metadata": {
    "scrolled": true
   },
   "outputs": [
    {
     "name": "stderr",
     "output_type": "stream",
     "text": [
      "                                                                                "
     ]
    }
   ],
   "source": [
    "df.write.format(\"jdbc\") \\\n",
    "    .option(\"url\", \"jdbc:mysql://localhost:3306/data_frame?useSSL=false&allowPublicKeyRetrieval=true\") \\\n",
    "    .option(\"driver\", \"com.mysql.jdbc.Driver\") \\\n",
    "    .option(\"dbtable\", \"venkat_copy\") \\\n",
    "    .option(\"user\", \"venkata\") \\\n",
    "    .option(\"password\", \"Root!123$$\") \\\n",
    "    .mode(\"append\") \\\n",
    "    .save()"
   ]
  }
 ],
 "metadata": {
  "kernelspec": {
   "display_name": "Python 3 (ipykernel)",
   "language": "python",
   "name": "python3"
  },
  "language_info": {
   "codemirror_mode": {
    "name": "ipython",
    "version": 3
   },
   "file_extension": ".py",
   "mimetype": "text/x-python",
   "name": "python",
   "nbconvert_exporter": "python",
   "pygments_lexer": "ipython3",
   "version": "3.12.3"
  }
 },
 "nbformat": 4,
 "nbformat_minor": 5
}
